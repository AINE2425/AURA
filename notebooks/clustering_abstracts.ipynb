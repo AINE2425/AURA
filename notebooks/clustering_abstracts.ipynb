{
  "cells": [
    {
      "cell_type": "code",
      "execution_count": 1,
      "metadata": {
        "id": "tGVcbO4ibhHC"
      },
      "outputs": [],
      "source": [
        "import pandas as pd\n",
        "import numpy as np\n",
        "from sklearn.metrics import silhouette_score, davies_bouldin_score, calinski_harabasz_score\n",
        "from sklearn.preprocessing import MinMaxScaler\n",
        "from sklearn.decomposition import PCA\n",
        "from sklearn.metrics.pairwise import cosine_distances\n",
        "from sklearn.cluster import KMeans, DBSCAN, AgglomerativeClustering, OPTICS\n",
        "from sentence_transformers import SentenceTransformer\n",
        "import matplotlib.pyplot as plt\n",
        "from mpl_toolkits.mplot3d import Axes3D\n"
      ]
    },
    {
      "cell_type": "code",
      "execution_count": 2,
      "metadata": {
        "id": "PScWnRS6bhEL"
      },
      "outputs": [],
      "source": [
        "def evaluate_clustering(X, labels):\n",
        "    mask = labels != -1\n",
        "    n_clusters = len(set(labels)) - (1 if -1 in labels else 0)\n",
        "    if n_clusters <= 1:\n",
        "        return None\n",
        "    return {\n",
        "        \"silhouette\": silhouette_score(X[mask], labels[mask]),\n",
        "        \"davies_bouldin\": davies_bouldin_score(X[mask], labels[mask]),\n",
        "        \"calinski_harabasz\": calinski_harabasz_score(X[mask], labels[mask])\n",
        "    }\n"
      ]
    },
    {
      "cell_type": "code",
      "execution_count": 3,
      "metadata": {
        "id": "5Kkxd-vUbg_O"
      },
      "outputs": [],
      "source": [
        "def run_kmeans(X, k_list):\n",
        "    results, inertias = [], []\n",
        "    for k in k_list:\n",
        "        model = KMeans(n_clusters=k, random_state=42, n_init='auto')\n",
        "        labels = model.fit_predict(X)\n",
        "        inertia = model.inertia_\n",
        "        inertias.append(inertia)\n",
        "        metrics = evaluate_clustering(X, labels)\n",
        "        if metrics:\n",
        "            results.append({\n",
        "                \"method\": \"KMeans\", \"params\": {\"k\": k}, \"labels\": labels, \"inertia\": inertia, **metrics\n",
        "            })\n",
        "    elbow_point = None\n",
        "    if len(inertias) >= 3:\n",
        "        second_derivative = np.diff(inertias, n=2)\n",
        "        elbow_index = np.argmin(second_derivative) + 1\n",
        "        elbow_point = k_list[elbow_index]\n",
        "    return {\"results\": results, \"elbow_point\": elbow_point}\n",
        "\n",
        "def run_dbscan(X, eps_list, min_samples=3):\n",
        "    dists = cosine_distances(X)\n",
        "    results = []\n",
        "    for eps in eps_list:\n",
        "        model = DBSCAN(eps=eps, min_samples=min_samples, metric='precomputed')\n",
        "        labels = model.fit_predict(dists)\n",
        "        metrics = evaluate_clustering(X, labels)\n",
        "        if metrics:\n",
        "            results.append({\n",
        "                \"method\": \"DBSCAN\", \"params\": {\"eps\": eps, \"min_samples\": min_samples}, \"labels\": labels, **metrics\n",
        "            })\n",
        "    return results\n",
        "\n",
        "def run_optics(X, xi_list):\n",
        "    results = []\n",
        "    for xi in xi_list:\n",
        "        model = OPTICS(min_samples=3, metric=\"cosine\", xi=xi)\n",
        "        labels = model.fit_predict(X)\n",
        "        metrics = evaluate_clustering(X, labels)\n",
        "        if metrics:\n",
        "            results.append({\n",
        "                \"method\": \"OPTICS\", \"params\": {\"xi\": xi}, \"labels\": labels, **metrics\n",
        "            })\n",
        "    return results\n",
        "\n",
        "def run_agglomerative(X, k_list):\n",
        "    results = []\n",
        "    for k in k_list:\n",
        "        model = AgglomerativeClustering(n_clusters=k)\n",
        "        labels = model.fit_predict(X)\n",
        "        metrics = evaluate_clustering(X, labels)\n",
        "        if metrics:\n",
        "            results.append({\n",
        "                \"method\": \"Agglomerative\", \"params\": {\"k\": k}, \"labels\": labels, **metrics\n",
        "            })\n",
        "    return results\n"
      ]
    },
    {
      "cell_type": "code",
      "execution_count": 6,
      "metadata": {
        "id": "wtPGCcBebg8o"
      },
      "outputs": [],
      "source": [
        "def cluster_abstracts(abstracts, algorithm='kmeans', params=None):\n",
        "    if not isinstance(abstracts, list) or not abstracts:\n",
        "        raise ValueError(\"Input 'abstracts' must be a non-empty list of strings.\")\n",
        "\n",
        "    model = SentenceTransformer(\"all-MiniLM-L6-v2\")\n",
        "    embeddings = model.encode(abstracts, show_progress_bar=True)\n",
        "\n",
        "    params = params or {}\n",
        "    results = []\n",
        "\n",
        "    if algorithm == 'kmeans':\n",
        "        k_list = params.get(\"k_list\", list(range(2, 21)))\n",
        "        output = run_kmeans(embeddings, k_list)\n",
        "        results = output[\"results\"]\n",
        "        best = max(results, key=lambda x: np.mean([\n",
        "            x[\"silhouette\"],\n",
        "            1 - x[\"davies_bouldin\"],\n",
        "            x[\"calinski_harabasz\"]\n",
        "        ]))\n",
        "    elif algorithm == 'dbscan':\n",
        "        eps_list = params.get(\"eps_list\", [0.3, 0.4, 0.5])\n",
        "        min_samples = params.get(\"min_samples\", 3)\n",
        "        results = run_dbscan(embeddings, eps_list, min_samples)\n",
        "        if not results:\n",
        "            raise ValueError(\"DBSCAN could not form any valid clusters with the given parameters.\")\n",
        "        best = max(results, key=lambda x: np.mean([\n",
        "            x[\"silhouette\"],\n",
        "            1 - x[\"davies_bouldin\"],\n",
        "            x[\"calinski_harabasz\"]\n",
        "        ]))\n",
        "    elif algorithm == 'optics':\n",
        "        xi_list = params.get(\"xi_list\", [0.03, 0.05, 0.07])\n",
        "        results = run_optics(embeddings, xi_list)\n",
        "        best = max(results, key=lambda x: np.mean([\n",
        "            x[\"silhouette\"],\n",
        "            1 - x[\"davies_bouldin\"],\n",
        "            x[\"calinski_harabasz\"]\n",
        "        ]))\n",
        "    elif algorithm == 'agglomerative':\n",
        "        k_list = params.get(\"k_list\", [5, 8, 10])\n",
        "        results = run_agglomerative(embeddings, k_list)\n",
        "        best = max(results, key=lambda x: np.mean([\n",
        "            x[\"silhouette\"],\n",
        "            1 - x[\"davies_bouldin\"],\n",
        "            x[\"calinski_harabasz\"]\n",
        "        ]))\n",
        "    else:\n",
        "        raise ValueError(\"Invalid clustering algorithm specified.\")\n",
        "\n",
        "    df = pd.DataFrame({\"Abstract\": abstracts, \"Cluster\": best[\"labels\"]})\n",
        "    return df, best\n"
      ]
    },
    {
      "cell_type": "code",
      "execution_count": 10,
      "metadata": {
        "id": "Yprb5MXQccuT"
      },
      "outputs": [],
      "source": [
        "def plot_clusters(X_proj, labels, title, is_3d=False):\n",
        "    unique_labels = sorted(set(labels))\n",
        "    colors = plt.cm.get_cmap(\"tab10\", len(unique_labels))\n",
        "\n",
        "    if is_3d:\n",
        "        fig = plt.figure(figsize=(8, 6))\n",
        "        ax = fig.add_subplot(111, projection='3d')\n",
        "        for i, label in enumerate(unique_labels):\n",
        "            mask = labels == label\n",
        "            ax.scatter(X_proj[mask, 0], X_proj[mask, 1], X_proj[mask, 2],\n",
        "                       label=f\"Cluster {label}\", s=20, color=colors(i))\n",
        "        ax.set_title(title)\n",
        "        ax.legend()\n",
        "    else:\n",
        "        plt.figure(figsize=(8, 6))\n",
        "        for i, label in enumerate(unique_labels):\n",
        "            mask = labels == label\n",
        "            plt.scatter(X_proj[mask, 0], X_proj[mask, 1],\n",
        "                        label=f\"Cluster {label}\", s=20, color=colors(i))\n",
        "        plt.title(title)\n",
        "        plt.xlabel(\"PCA 1\")\n",
        "        plt.ylabel(\"PCA 2\")\n",
        "        plt.legend()\n",
        "    plt.tight_layout()\n",
        "    plt.show()\n"
      ]
    },
    {
      "cell_type": "code",
      "execution_count": null,
      "metadata": {
        "colab": {
          "base_uri": "https://localhost:8080/",
          "height": 86,
          "referenced_widgets": [
            "10ef36a1cf8e4b1c892cd53ea7907255",
            "041f62a5346b40ae8d59c826ea0bc762",
            "aa342716404c4f64a127ddf428c7700c",
            "7b7ad61db942481bb51525b2e54df605",
            "a52a922a093c4a46b6dd3587278b13b3",
            "6683fe95881043e9978df0916ca85940",
            "22228c41ec724ed98aa4fa1aecace52d",
            "faaed0ec2c9e44d7b77bf79a07928ee7",
            "84d9533efd8d4d669caa23ce9282610c",
            "e2c517e227b64edcba576a98ea705d72",
            "08613e5d51184bb8ac5b329babae2598"
          ]
        },
        "id": "TnLSyVQebg6B",
        "outputId": "6aeea836-ad8f-4559-e12c-efcada23f1db"
      },
      "outputs": [
        {
          "data": {
            "application/vnd.jupyter.widget-view+json": {
              "model_id": "10ef36a1cf8e4b1c892cd53ea7907255",
              "version_major": 2,
              "version_minor": 0
            },
            "text/plain": [
              "Batches:   0%|          | 0/14 [00:00<?, ?it/s]"
            ]
          },
          "metadata": {},
          "output_type": "display_data"
        },
        {
          "name": "stdout",
          "output_type": "stream",
          "text": [
            "Default KMeans Clustering:\n",
            "{'k': 4}\n"
          ]
        }
      ],
      "source": [
        "scopus_df = pd.read_csv(\"scopus/scopus.csv\")\n",
        "abstracts = scopus_df[\"Abstract\"].dropna().tolist()\n",
        "\n",
        "df_clusters, best_kmeans = cluster_abstracts(abstracts, params={\"k_list\": list(range(4, 26))})\n",
        "print(\"Default KMeans Clustering:\")\n",
        "print(best_kmeans[\"params\"])\n",
        "\n",
        "df_clusters_agg, best_agg = cluster_abstracts(\n",
        "    abstracts, algorithm='agglomerative', params={\"k_list\": [4, 6, 9]}\n",
        ")\n",
        "print(\"Agglomerative Clustering (Overridden):\")\n",
        "print(best_agg[\"params\"])\n",
        "\n",
        "# --- Test 3: DBSCAN with overridden hyperparameters ---\n",
        "# df_clusters_dbscan, best_dbscan = cluster_abstracts(\n",
        "#     abstracts, algorithm='dbscan', params={\"eps_list\": [0.5, 0.7, 0.9], \"min_samples\": 3}\n",
        "# )\n",
        "\n",
        "# print(\"DBSCAN Clustering (Overridden):\")\n",
        "# print(best_dbscan[\"params\"])\n"
      ]
    },
    {
      "cell_type": "code",
      "execution_count": null,
      "metadata": {
        "colab": {
          "base_uri": "https://localhost:8080/",
          "height": 1000,
          "referenced_widgets": [
            "da4e1e93f7cf46029266b9b6f3b14de9",
            "0417fa2d9e9a4dd4bde34c76eea50516",
            "45d612cb83274eb8b7405654b3a64962",
            "9485f4bdbc35468daffd6f524135841d",
            "ce4ad7eb43d945dfbcea752c26a0b6db",
            "21e458a60c1a48a7833162873601049e",
            "4e78a057330a4f12aadef014207d9166",
            "2361bdeaecb74bd9ac6b4bb20c1db492",
            "017e4ead61604e3eb62595399251a14e",
            "cddae0dbae0b4a898e388f82ed847d09",
            "240a3a981f00489f987ce5f80fa4ab34"
          ]
        },
        "id": "_mT22Twgbg3t",
        "outputId": "8154407b-e363-4cf5-e23c-2d7017f194a2"
      },
      "outputs": [
        {
          "data": {
            "application/vnd.jupyter.widget-view+json": {
              "model_id": "da4e1e93f7cf46029266b9b6f3b14de9",
              "version_major": 2,
              "version_minor": 0
            },
            "text/plain": [
              "Batches:   0%|          | 0/14 [00:00<?, ?it/s]"
            ]
          },
          "metadata": {},
          "output_type": "display_data"
        },
        {
          "name": "stderr",
          "output_type": "stream",
          "text": [
            "<ipython-input-10-873480d46638>:3: MatplotlibDeprecationWarning: The get_cmap function was deprecated in Matplotlib 3.7 and will be removed in 3.11. Use ``matplotlib.colormaps[name]`` or ``matplotlib.colormaps.get_cmap()`` or ``pyplot.get_cmap()`` instead.\n",
            "  colors = plt.cm.get_cmap(\"tab10\", len(unique_labels))\n"
          ]
        },
        {
          "data": {
            "image/png": "[encoded data removed]",
            "text/plain": [
              "<Figure size 800x600 with 1 Axes>"
            ]
          },
          "metadata": {},
          "output_type": "display_data"
        },
        {
          "data": {
            "image/png": "[encoded data removed]",
            "text/plain": [
              "<Figure size 800x600 with 1 Axes>"
            ]
          },
          "metadata": {},
          "output_type": "display_data"
        }
      ],
      "source": [
        "model = SentenceTransformer(\"all-MiniLM-L6-v2\")\n",
        "embeddings = model.encode(abstracts, show_progress_bar=True)\n",
        "\n",
        "pca_2d = PCA(n_components=2)\n",
        "pca_3d = PCA(n_components=3)\n",
        "X_2d = pca_2d.fit_transform(embeddings)\n",
        "X_3d = pca_3d.fit_transform(embeddings)\n",
        "\n",
        "plot_clusters(X_2d, best_kmeans[\"labels\"], title=\"KMeans Clustering (2D)\", is_3d=False)\n",
        "plot_clusters(X_3d, best_kmeans[\"labels\"], title=\"KMeans Clustering (3D)\", is_3d=True)"
      ]
    },
    {
      "cell_type": "code",
      "execution_count": 27,
      "metadata": {
        "colab": {
          "base_uri": "https://localhost:8080/",
          "height": 175
        },
        "id": "4sP9ck00bgy-",
        "outputId": "f922622b-4820-4c48-fc77-64211cf4572b"
      },
      "outputs": [
        {
          "data": {
            "application/vnd.google.colaboratory.intrinsic+json": {
              "summary": "{\n  \"name\": \"selected_df\",\n  \"rows\": 4,\n  \"fields\": [\n    {\n      \"column\": \"Abstract\",\n      \"properties\": {\n        \"dtype\": \"string\",\n        \"num_unique_values\": 4,\n        \"samples\": [\n          \"A crucial step in new product development is the design verification process (DVP), which assures that the conceptual design of new technology is successfully transformed into a prototype product. In this paper, a novel DVP for subsea electrical and electronic prototype products is introduced. The comprehensive DVP ensures that the prototype of the product is designed righteously, is well documented, and is verified according to international practices and standards such as The American Petroleum Institute (API), International Organization for Standardization, European Norm, and European Union specifications. Compliance testing [environmental stresses and electromagnetic compatibility (EMC)] on the product is proposed to achieve Technology Readiness Level 2 (TRL2) of the first article of a printed circuit board (PCB). Concerning the quality of an electronic circuit board, it is recommended in this paper to follow the guidelines and specifications of the Institute of Printed Circuits to certify the robustness of the design. Finally, the proposed DVP is thoroughly exercised on the insulation monitoring PCB under the prescribed test methods as a case study. The experimental results show that the design is robust and the product is suitable for use in the intended subsea environment after further raising the technology maturity level of the product. \\u00a9 2023 Society of Petroleum Engineers.\",\n          \"This study sought to identify the drivers of local government efficiency by investigating three key motivations: internal capacity, rewards for good performance, and compliance with the national government. This paper studied the business registration efficiency cases of 141 highly urbanized and component cities in the Philippines using the cities and municipalities competitiveness index dataset from 2017 to 2019. It was found that capacity-related factors are the most influential in motivating Philippine cities to be more efficient in their business registration processes. Having a higher institutional capacity, higher public service experiences, and good technology infrastructure contribute immensely to better service delivery. Compliance with the national government\\u2019s directions on public service standards also positively influences efficiency. In addition, it was confirmed that these factors may appear differently, depending on cities\\u2019 size statuses. Other policy implications and recommendations for future research are discussed. \\u00a9 2022 by the authors.\",\n          \"In this chapter we review the body of operations management (OM) literature that studies compliance issues. Researchers in OM focus on how operational-level decisions (such as process improvement, capacity, quality, and risk mitigation) impact performance outcomes in business and society. In recent years there has been growing interest among OM scholars in compliance issues, mostly in the context of environmental regulation and corporate social responsibility (CSR). The focus on operations casts new light and brings novel insights to compliance issues, and in some cases provides guidance for implementable solutions. \\u00a9 2021 Cambridge University Press.\"\n        ],\n        \"semantic_type\": \"\",\n        \"description\": \"\"\n      }\n    },\n    {\n      \"column\": \"Cluster\",\n      \"properties\": {\n        \"dtype\": \"int32\",\n        \"num_unique_values\": 4,\n        \"samples\": [\n          3,\n          0,\n          1\n        ],\n        \"semantic_type\": \"\",\n        \"description\": \"\"\n      }\n    }\n  ]\n}",
              "type": "dataframe",
              "variable_name": "selected_df"
            },
            "text/html": [
              "\n",
              "  <div id=\"df-d5992a67-b157-4e17-b457-143581bb0421\" class=\"colab-df-container\">\n",
              "    <div>\n",
              "<style scoped>\n",
              "    .dataframe tbody tr th:only-of-type {\n",
              "        vertical-align: middle;\n",
              "    }\n",
              "\n",
              "    .dataframe tbody tr th {\n",
              "        vertical-align: top;\n",
              "    }\n",
              "\n",
              "    .dataframe thead th {\n",
              "        text-align: right;\n",
              "    }\n",
              "</style>\n",
              "<table border=\"1\" class=\"dataframe\">\n",
              "  <thead>\n",
              "    <tr style=\"text-align: right;\">\n",
              "      <th></th>\n",
              "      <th>Abstract</th>\n",
              "      <th>Cluster</th>\n",
              "    </tr>\n",
              "  </thead>\n",
              "  <tbody>\n",
              "    <tr>\n",
              "      <th>0</th>\n",
              "      <td>In this chapter we review the body of operatio...</td>\n",
              "      <td>1</td>\n",
              "    </tr>\n",
              "    <tr>\n",
              "      <th>1</th>\n",
              "      <td>A crucial step in new product development is t...</td>\n",
              "      <td>3</td>\n",
              "    </tr>\n",
              "    <tr>\n",
              "      <th>2</th>\n",
              "      <td>Building Information Modelling (BIM) is define...</td>\n",
              "      <td>2</td>\n",
              "    </tr>\n",
              "    <tr>\n",
              "      <th>36</th>\n",
              "      <td>This study sought to identify the drivers of l...</td>\n",
              "      <td>0</td>\n",
              "    </tr>\n",
              "  </tbody>\n",
              "</table>\n",
              "</div>\n",
              "    <div class=\"colab-df-buttons\">\n",
              "\n",
              "  <div class=\"colab-df-container\">\n",
              "    <button class=\"colab-df-convert\" onclick=\"convertToInteractive('df-d5992a67-b157-4e17-b457-143581bb0421')\"\n",
              "            title=\"Convert this dataframe to an interactive table.\"\n",
              "            style=\"display:none;\">\n",
              "\n",
              "  <svg xmlns=\"http://www.w3.org/2000/svg\" height=\"24px\" viewBox=\"0 -960 960 960\">\n",
              "    <path d=\"M120-120v-720h720v720H120Zm60-500h600v-160H180v160Zm220 220h160v-160H400v160Zm0 220h160v-160H400v160ZM180-400h160v-160H180v160Zm440 0h160v-160H620v160ZM180-180h160v-160H180v160Zm440 0h160v-160H620v160Z\"/>\n",
              "  </svg>\n",
              "    </button>\n",
              "\n",
              "  <style>\n",
              "    .colab-df-container {\n",
              "      display:flex;\n",
              "      gap: 12px;\n",
              "    }\n",
              "\n",
              "    .colab-df-convert {\n",
              "      background-color: #E8F0FE;\n",
              "      border: none;\n",
              "      border-radius: 50%;\n",
              "      cursor: pointer;\n",
              "      display: none;\n",
              "      fill: #1967D2;\n",
              "      height: 32px;\n",
              "      padding: 0 0 0 0;\n",
              "      width: 32px;\n",
              "    }\n",
              "\n",
              "    .colab-df-convert:hover {\n",
              "      background-color: #E2EBFA;\n",
              "      box-shadow: 0px 1px 2px rgba(60, 64, 67, 0.3), 0px 1px 3px 1px rgba(60, 64, 67, 0.15);\n",
              "      fill: #174EA6;\n",
              "    }\n",
              "\n",
              "    .colab-df-buttons div {\n",
              "      margin-bottom: 4px;\n",
              "    }\n",
              "\n",
              "    [theme=dark] .colab-df-convert {\n",
              "      background-color: #3B4455;\n",
              "      fill: #D2E3FC;\n",
              "    }\n",
              "\n",
              "    [theme=dark] .colab-df-convert:hover {\n",
              "      background-color: #434B5C;\n",
              "      box-shadow: 0px 1px 3px 1px rgba(0, 0, 0, 0.15);\n",
              "      filter: drop-shadow(0px 1px 2px rgba(0, 0, 0, 0.3));\n",
              "      fill: #FFFFFF;\n",
              "    }\n",
              "  </style>\n",
              "\n",
              "    <script>\n",
              "      const buttonEl =\n",
              "        document.querySelector('#df-d5992a67-b157-4e17-b457-143581bb0421 button.colab-df-convert');\n",
              "      buttonEl.style.display =\n",
              "        google.colab.kernel.accessAllowed ? 'block' : 'none';\n",
              "\n",
              "      async function convertToInteractive(key) {\n",
              "        const element = document.querySelector('#df-d5992a67-b157-4e17-b457-143581bb0421');\n",
              "        const dataTable =\n",
              "          await google.colab.kernel.invokeFunction('convertToInteractive',\n",
              "                                                    [key], {});\n",
              "        if (!dataTable) return;\n",
              "\n",
              "        const docLinkHtml = 'Like what you see? Visit the ' +\n",
              "          '<a target=\"_blank\" href=https://colab.research.google.com/notebooks/data_table.ipynb>data table notebook</a>'\n",
              "          + ' to learn more about interactive tables.';\n",
              "        element.innerHTML = '';\n",
              "        dataTable['output_type'] = 'display_data';\n",
              "        await google.colab.output.renderOutput(dataTable, element);\n",
              "        const docLink = document.createElement('div');\n",
              "        docLink.innerHTML = docLinkHtml;\n",
              "        element.appendChild(docLink);\n",
              "      }\n",
              "    </script>\n",
              "  </div>\n",
              "\n",
              "\n",
              "    <div id=\"df-fdbe581a-3f63-4777-89c6-8131eccc2bf8\">\n",
              "      <button class=\"colab-df-quickchart\" onclick=\"quickchart('df-fdbe581a-3f63-4777-89c6-8131eccc2bf8')\"\n",
              "                title=\"Suggest charts\"\n",
              "                style=\"display:none;\">\n",
              "\n",
              "<svg xmlns=\"http://www.w3.org/2000/svg\" height=\"24px\"viewBox=\"0 0 24 24\"\n",
              "     width=\"24px\">\n",
              "    <g>\n",
              "        <path d=\"M19 3H5c-1.1 0-2 .9-2 2v14c0 1.1.9 2 2 2h14c1.1 0 2-.9 2-2V5c0-1.1-.9-2-2-2zM9 17H7v-7h2v7zm4 0h-2V7h2v10zm4 0h-2v-4h2v4z\"/>\n",
              "    </g>\n",
              "</svg>\n",
              "      </button>\n",
              "\n",
              "<style>\n",
              "  .colab-df-quickchart {\n",
              "      --bg-color: #E8F0FE;\n",
              "      --fill-color: #1967D2;\n",
              "      --hover-bg-color: #E2EBFA;\n",
              "      --hover-fill-color: #174EA6;\n",
              "      --disabled-fill-color: #AAA;\n",
              "      --disabled-bg-color: #DDD;\n",
              "  }\n",
              "\n",
              "  [theme=dark] .colab-df-quickchart {\n",
              "      --bg-color: #3B4455;\n",
              "      --fill-color: #D2E3FC;\n",
              "      --hover-bg-color: #434B5C;\n",
              "      --hover-fill-color: #FFFFFF;\n",
              "      --disabled-bg-color: #3B4455;\n",
              "      --disabled-fill-color: #666;\n",
              "  }\n",
              "\n",
              "  .colab-df-quickchart {\n",
              "    background-color: var(--bg-color);\n",
              "    border: none;\n",
              "    border-radius: 50%;\n",
              "    cursor: pointer;\n",
              "    display: none;\n",
              "    fill: var(--fill-color);\n",
              "    height: 32px;\n",
              "    padding: 0;\n",
              "    width: 32px;\n",
              "  }\n",
              "\n",
              "  .colab-df-quickchart:hover {\n",
              "    background-color: var(--hover-bg-color);\n",
              "    box-shadow: 0 1px 2px rgba(60, 64, 67, 0.3), 0 1px 3px 1px rgba(60, 64, 67, 0.15);\n",
              "    fill: var(--button-hover-fill-color);\n",
              "  }\n",
              "\n",
              "  .colab-df-quickchart-complete:disabled,\n",
              "  .colab-df-quickchart-complete:disabled:hover {\n",
              "    background-color: var(--disabled-bg-color);\n",
              "    fill: var(--disabled-fill-color);\n",
              "    box-shadow: none;\n",
              "  }\n",
              "\n",
              "  .colab-df-spinner {\n",
              "    border: 2px solid var(--fill-color);\n",
              "    border-color: transparent;\n",
              "    border-bottom-color: var(--fill-color);\n",
              "    animation:\n",
              "      spin 1s steps(1) infinite;\n",
              "  }\n",
              "\n",
              "  @keyframes spin {\n",
              "    0% {\n",
              "      border-color: transparent;\n",
              "      border-bottom-color: var(--fill-color);\n",
              "      border-left-color: var(--fill-color);\n",
              "    }\n",
              "    20% {\n",
              "      border-color: transparent;\n",
              "      border-left-color: var(--fill-color);\n",
              "      border-top-color: var(--fill-color);\n",
              "    }\n",
              "    30% {\n",
              "      border-color: transparent;\n",
              "      border-left-color: var(--fill-color);\n",
              "      border-top-color: var(--fill-color);\n",
              "      border-right-color: var(--fill-color);\n",
              "    }\n",
              "    40% {\n",
              "      border-color: transparent;\n",
              "      border-right-color: var(--fill-color);\n",
              "      border-top-color: var(--fill-color);\n",
              "    }\n",
              "    60% {\n",
              "      border-color: transparent;\n",
              "      border-right-color: var(--fill-color);\n",
              "    }\n",
              "    80% {\n",
              "      border-color: transparent;\n",
              "      border-right-color: var(--fill-color);\n",
              "      border-bottom-color: var(--fill-color);\n",
              "    }\n",
              "    90% {\n",
              "      border-color: transparent;\n",
              "      border-bottom-color: var(--fill-color);\n",
              "    }\n",
              "  }\n",
              "</style>\n",
              "\n",
              "      <script>\n",
              "        async function quickchart(key) {\n",
              "          const quickchartButtonEl =\n",
              "            document.querySelector('#' + key + ' button');\n",
              "          quickchartButtonEl.disabled = true;  // To prevent multiple clicks.\n",
              "          quickchartButtonEl.classList.add('colab-df-spinner');\n",
              "          try {\n",
              "            const charts = await google.colab.kernel.invokeFunction(\n",
              "                'suggestCharts', [key], {});\n",
              "          } catch (error) {\n",
              "            console.error('Error during call to suggestCharts:', error);\n",
              "          }\n",
              "          quickchartButtonEl.classList.remove('colab-df-spinner');\n",
              "          quickchartButtonEl.classList.add('colab-df-quickchart-complete');\n",
              "        }\n",
              "        (() => {\n",
              "          let quickchartButtonEl =\n",
              "            document.querySelector('#df-fdbe581a-3f63-4777-89c6-8131eccc2bf8 button');\n",
              "          quickchartButtonEl.style.display =\n",
              "            google.colab.kernel.accessAllowed ? 'block' : 'none';\n",
              "        })();\n",
              "      </script>\n",
              "    </div>\n",
              "\n",
              "  <div id=\"id_ff599ab1-7e3c-403e-9c62-14dee5f1fc17\">\n",
              "    <style>\n",
              "      .colab-df-generate {\n",
              "        background-color: #E8F0FE;\n",
              "        border: none;\n",
              "        border-radius: 50%;\n",
              "        cursor: pointer;\n",
              "        display: none;\n",
              "        fill: #1967D2;\n",
              "        height: 32px;\n",
              "        padding: 0 0 0 0;\n",
              "        width: 32px;\n",
              "      }\n",
              "\n",
              "      .colab-df-generate:hover {\n",
              "        background-color: #E2EBFA;\n",
              "        box-shadow: 0px 1px 2px rgba(60, 64, 67, 0.3), 0px 1px 3px 1px rgba(60, 64, 67, 0.15);\n",
              "        fill: #174EA6;\n",
              "      }\n",
              "\n",
              "      [theme=dark] .colab-df-generate {\n",
              "        background-color: #3B4455;\n",
              "        fill: #D2E3FC;\n",
              "      }\n",
              "\n",
              "      [theme=dark] .colab-df-generate:hover {\n",
              "        background-color: #434B5C;\n",
              "        box-shadow: 0px 1px 3px 1px rgba(0, 0, 0, 0.15);\n",
              "        filter: drop-shadow(0px 1px 2px rgba(0, 0, 0, 0.3));\n",
              "        fill: #FFFFFF;\n",
              "      }\n",
              "    </style>\n",
              "    <button class=\"colab-df-generate\" onclick=\"generateWithVariable('selected_df')\"\n",
              "            title=\"Generate code using this dataframe.\"\n",
              "            style=\"display:none;\">\n",
              "\n",
              "  <svg xmlns=\"http://www.w3.org/2000/svg\" height=\"24px\"viewBox=\"0 0 24 24\"\n",
              "       width=\"24px\">\n",
              "    <path d=\"M7,19H8.4L18.45,9,17,7.55,7,17.6ZM5,21V16.75L18.45,3.32a2,2,0,0,1,2.83,0l1.4,1.43a1.91,1.91,0,0,1,.58,1.4,1.91,1.91,0,0,1-.58,1.4L9.25,21ZM18.45,9,17,7.55Zm-12,3A5.31,5.31,0,0,0,4.9,8.1,5.31,5.31,0,0,0,1,6.5,5.31,5.31,0,0,0,4.9,4.9,5.31,5.31,0,0,0,6.5,1,5.31,5.31,0,0,0,8.1,4.9,5.31,5.31,0,0,0,12,6.5,5.46,5.46,0,0,0,6.5,12Z\"/>\n",
              "  </svg>\n",
              "    </button>\n",
              "    <script>\n",
              "      (() => {\n",
              "      const buttonEl =\n",
              "        document.querySelector('#id_ff599ab1-7e3c-403e-9c62-14dee5f1fc17 button.colab-df-generate');\n",
              "      buttonEl.style.display =\n",
              "        google.colab.kernel.accessAllowed ? 'block' : 'none';\n",
              "\n",
              "      buttonEl.onclick = () => {\n",
              "        google.colab.notebook.generateWithVariable('selected_df');\n",
              "      }\n",
              "      })();\n",
              "    </script>\n",
              "  </div>\n",
              "\n",
              "    </div>\n",
              "  </div>\n"
            ],
            "text/plain": [
              "                                             Abstract  Cluster\n",
              "0   In this chapter we review the body of operatio...        1\n",
              "1   A crucial step in new product development is t...        3\n",
              "2   Building Information Modelling (BIM) is define...        2\n",
              "36  This study sought to identify the drivers of l...        0"
            ]
          },
          "execution_count": 27,
          "metadata": {},
          "output_type": "execute_result"
        }
      ],
      "source": [
        "unique_clusters = df_clusters['Cluster'].unique()\n",
        "selected_rows = []\n",
        "for cluster in unique_clusters[:4]:  # Select up to 4 unique clusters\n",
        "    row = df_clusters[df_clusters['Cluster'] == cluster].iloc[0]\n",
        "    selected_rows.append(row)\n",
        "selected_df = pd.DataFrame(selected_rows)\n",
        "\n",
        "selected_df"
      ]
    },
    {
      "cell_type": "code",
      "execution_count": 28,
      "metadata": {
        "id": "60QXSFJ3iu8-"
      },
      "outputs": [],
      "source": [
        "cluster_1_abstracts = df_clusters[df_clusters['Cluster'] == 1]['Abstract'].tolist()\n",
        "cluster_2_abstracts = df_clusters[df_clusters['Cluster'] == 2]['Abstract'].tolist()"
      ]
    },
    {
      "cell_type": "code",
      "execution_count": 31,
      "metadata": {
        "colab": {
          "base_uri": "https://localhost:8080/",
          "height": 110
        },
        "id": "8f6x0PTyi8YW",
        "outputId": "cd38d06f-6c45-4cf7-848f-077ec63abe77"
      },
      "outputs": [
        {
          "data": {
            "application/vnd.google.colaboratory.intrinsic+json": {
              "type": "string"
            },
            "text/plain": [
              "'Extant literature has shown that sectoral characteristics play a critical role in business value creation through information technology (IT). Therefore, managing IT and its associated risks needs to consider specific industrial traits to understand the distinct business nature and regulations that shape IT-enabled business value creation. This study presents an in-depth analysis of business goals, IT processes, and IT risks in the case of a pharmaceutical company through which appropriate controls are designed to ensure business value creation through IT. Drawing on a case study of a pharmaceutical company in Indonesia, we found that managing IT risks in the pharmaceutical industry entails two main objectives: 1) ensuring compliance with external laws and regulations as well as internal policies, 2) supporting the optimization of business functions, processes, and costs. Throughout one year of engagement during the project, this study identified ten risks associated with the operation of business processes. Risks are dominated by moderate levels given the current state of controls and appetite, most of which emerge from the company’s existing internal processes. Internal actors are involved in all risks, with most events occurring due to laws and regulations. Further, the study designs and elaborates IT risk controls by drawing from COBIT 5 Seven Enablers. Overall, IT risk management through cascading processes of analysis ensures the alignment of IT risk controls with achieving business goals in the pharmaceutical industry. © 2023, Politeknik Negeri Padang. All rights reserved.'"
            ]
          },
          "execution_count": 31,
          "metadata": {},
          "output_type": "execute_result"
        }
      ],
      "source": [
        "cluster_1_abstracts[1]"
      ]
    },
    {
      "cell_type": "code",
      "execution_count": 32,
      "metadata": {
        "colab": {
          "base_uri": "https://localhost:8080/",
          "height": 110
        },
        "id": "nmRPaIoMjDDd",
        "outputId": "a6e72d3e-1caf-4d61-b3e7-fadf9cdc359e"
      },
      "outputs": [
        {
          "data": {
            "application/vnd.google.colaboratory.intrinsic+json": {
              "type": "string"
            },
            "text/plain": [
              "'The proceedings contain 15 papers. The special focus in this conference is on Evaluation of Novel Approaches to Software Engineering. The topics include: Addressing the\\xa0Influence of\\xa0End User Human Aspects on\\xa0Software Engineering; gender Classification Models and\\xa0Feature Impact for\\xa0Social Media Author Profiling; agile Mindset Adoption in Student Team Projects; ontology-Based Natural Language Processing for\\xa0Process Compliance Management; UI-Test: A Model-Based Framework for Visual UI Testing– Qualitative and Quantitative Evaluation; considerations for Indigenous Cultural Aspects in Software Development: A Case Study; modelling Age of End-Users Using Wire-Frames; A Framework for Privacy and Security Requirements Analysis and Conflict Resolution for Supporting GDPR Compliance Through Privacy-by-Design; the Relevance of Privacy Concerns, Trust, and Risk for Hybrid Social Media; From Business Process Textual Description to BPEL Models; xtraLibD: Detecting Irrelevant Third-Party Libraries in\\xa0Java and\\xa0Python Applications; Automation of the Software Development Process from ReLEL Using the Praxeme Approach; stakeholder-Centric Clustering Methods for\\xa0Conflict Resolution in\\xa0the\\xa0Requirements Engineering Process.'"
            ]
          },
          "execution_count": 32,
          "metadata": {},
          "output_type": "execute_result"
        }
      ],
      "source": [
        "cluster_2_abstracts[1]"
      ]
    },
    {
      "cell_type": "code",
      "execution_count": 23,
      "metadata": {
        "colab": {
          "base_uri": "https://localhost:8080/",
          "height": 91
        },
        "id": "3OCXSmhTbgu0",
        "outputId": "902a1d9a-12d9-4290-a69c-bb9d02a2ce62"
      },
      "outputs": [
        {
          "data": {
            "application/vnd.google.colaboratory.intrinsic+json": {
              "type": "string"
            },
            "text/plain": [
              "'In this chapter we review the body of operations management (OM) literature that studies compliance issues. Researchers in OM focus on how operational-level decisions (such as process improvement, capacity, quality, and risk mitigation) impact performance outcomes in business and society. In recent years there has been growing interest among OM scholars in compliance issues, mostly in the context of environmental regulation and corporate social responsibility (CSR). The focus on operations casts new light and brings novel insights to compliance issues, and in some cases provides guidance for implementable solutions. © 2021 Cambridge University Press.'"
            ]
          },
          "execution_count": 23,
          "metadata": {},
          "output_type": "execute_result"
        }
      ],
      "source": [
        "selected_df['Abstract'].iloc[0]\n"
      ]
    },
    {
      "cell_type": "code",
      "execution_count": 24,
      "metadata": {
        "colab": {
          "base_uri": "https://localhost:8080/",
          "height": 110
        },
        "id": "pjxYK6pbg9ia",
        "outputId": "4b40ac67-6216-4e87-ffeb-3b8c40e96089"
      },
      "outputs": [
        {
          "data": {
            "application/vnd.google.colaboratory.intrinsic+json": {
              "type": "string"
            },
            "text/plain": [
              "'A crucial step in new product development is the design verification process (DVP), which assures that the conceptual design of new technology is successfully transformed into a prototype product. In this paper, a novel DVP for subsea electrical and electronic prototype products is introduced. The comprehensive DVP ensures that the prototype of the product is designed righteously, is well documented, and is verified according to international practices and standards such as The American Petroleum Institute (API), International Organization for Standardization, European Norm, and European Union specifications. Compliance testing [environmental stresses and electromagnetic compatibility (EMC)] on the product is proposed to achieve Technology Readiness Level 2 (TRL2) of the first article of a printed circuit board (PCB). Concerning the quality of an electronic circuit board, it is recommended in this paper to follow the guidelines and specifications of the Institute of Printed Circuits to certify the robustness of the design. Finally, the proposed DVP is thoroughly exercised on the insulation monitoring PCB under the prescribed test methods as a case study. The experimental results show that the design is robust and the product is suitable for use in the intended subsea environment after further raising the technology maturity level of the product. © 2023 Society of Petroleum Engineers.'"
            ]
          },
          "execution_count": 24,
          "metadata": {},
          "output_type": "execute_result"
        }
      ],
      "source": [
        "selected_df['Abstract'].iloc[1]\n"
      ]
    },
    {
      "cell_type": "code",
      "execution_count": 26,
      "metadata": {
        "colab": {
          "base_uri": "https://localhost:8080/",
          "height": 110
        },
        "id": "4oHXpIrXbgsN",
        "outputId": "15f7084b-9f59-49e7-acbf-2e8621d24af4"
      },
      "outputs": [
        {
          "data": {
            "application/vnd.google.colaboratory.intrinsic+json": {
              "type": "string"
            },
            "text/plain": [
              "'Building Information Modelling (BIM) is defined as the process of creation and management of digital replica for building products in a collaborative design set-up. On this basis, BIM as a digital collaboration platform in AECO (Architecture, Engineering, Construction, and Operation) industry, can be upgraded to assist monitoring, control and improvement of the business processes related to planning, design, construction and operation of building facilities. The main problem in this regard, is the wastage of data related to activities completed by different actors during the project; and subsequently, the lack of analytics to discover latent patterns in collaboration and execution of such processes. The present study aims to enable BIM to capture digital footprints of project actors and create event logs for design authoring phase of building projects. This is done using files in IFC (Industry Foundation Classes) format, archived during the design process. We have developed algorithms to create event logs from such archives, and analyzed the event logs using process mining (i.e. process discovery, conformance checking and bottleneck analysis), to identify measures derived from as-happened processes. BIM managers can implement such measures in monitoring, controlling and re-engineering work processes related to design authoring. Two case studies were completed to validate and verify the products and findings of the research. Our results show that process models discovered/fine-tuned at various resolutions and from different perspectives (including ‘actor-centric’ and ‘phase-centric’ views) can provide a realistic view of the BIM project execution. This includes understanding the structure of collaboration and hand-over of work; evaluation of compliance with the BIM execution plan; and detection of bottlenecks and re-works. While the scope of the study has been limited to design authoring processes, this mindset can be extended to other BIM uses, and other phases (such as construction and operation) of building projects. Given the growing efforts on upgrading BIM to capture and formalize the lifecycle data on the products, processes and actors, this study can strongly support BIM managers with documentation and evaluation of the business processes and workflows in their project teams. © 2019'"
            ]
          },
          "execution_count": 26,
          "metadata": {},
          "output_type": "execute_result"
        }
      ],
      "source": [
        "selected_df['Abstract'].iloc[2]\n"
      ]
    },
    {
      "cell_type": "code",
      "execution_count": 25,
      "metadata": {
        "colab": {
          "base_uri": "https://localhost:8080/",
          "height": 110
        },
        "id": "44JQd0mrg_rI",
        "outputId": "d5cb6384-110a-4307-d28a-b13648cf3ffc"
      },
      "outputs": [
        {
          "data": {
            "application/vnd.google.colaboratory.intrinsic+json": {
              "type": "string"
            },
            "text/plain": [
              "'This study sought to identify the drivers of local government efficiency by investigating three key motivations: internal capacity, rewards for good performance, and compliance with the national government. This paper studied the business registration efficiency cases of 141 highly urbanized and component cities in the Philippines using the cities and municipalities competitiveness index dataset from 2017 to 2019. It was found that capacity-related factors are the most influential in motivating Philippine cities to be more efficient in their business registration processes. Having a higher institutional capacity, higher public service experiences, and good technology infrastructure contribute immensely to better service delivery. Compliance with the national government’s directions on public service standards also positively influences efficiency. In addition, it was confirmed that these factors may appear differently, depending on cities’ size statuses. Other policy implications and recommendations for future research are discussed. © 2022 by the authors.'"
            ]
          },
          "execution_count": 25,
          "metadata": {},
          "output_type": "execute_result"
        }
      ],
      "source": [
        "selected_df['Abstract'].iloc[3]\n"
      ]
    }
  ],
  "metadata": {
    "colab": {
      "provenance": []
    },
    "kernelspec": {
      "display_name": "Python 3",
      "name": "python3"
    },
    "language_info": {
      "name": "python"
    },
    "widgets": {
      "application/vnd.jupyter.widget-state+json": {
        "017e4ead61604e3eb62595399251a14e": {
          "model_module": "@jupyter-widgets/controls",
          "model_module_version": "1.5.0",
          "model_name": "ProgressStyleModel",
          "state": {
            "_model_module": "@jupyter-widgets/controls",
            "_model_module_version": "1.5.0",
            "_model_name": "ProgressStyleModel",
            "_view_count": null,
            "_view_module": "@jupyter-widgets/base",
            "_view_module_version": "1.2.0",
            "_view_name": "StyleView",
            "bar_color": null,
            "description_width": ""
          }
        },
        "0417fa2d9e9a4dd4bde34c76eea50516": {
          "model_module": "@jupyter-widgets/controls",
          "model_module_version": "1.5.0",
          "model_name": "HTMLModel",
          "state": {
            "_dom_classes": [],
            "_model_module": "@jupyter-widgets/controls",
            "_model_module_version": "1.5.0",
            "_model_name": "HTMLModel",
            "_view_count": null,
            "_view_module": "@jupyter-widgets/controls",
            "_view_module_version": "1.5.0",
            "_view_name": "HTMLView",
            "description": "",
            "description_tooltip": null,
            "layout": "IPY_MODEL_21e458a60c1a48a7833162873601049e",
            "placeholder": "​",
            "style": "IPY_MODEL_4e78a057330a4f12aadef014207d9166",
            "value": "Batches: 100%"
          }
        },
        "041f62a5346b40ae8d59c826ea0bc762": {
          "model_module": "@jupyter-widgets/controls",
          "model_module_version": "1.5.0",
          "model_name": "HTMLModel",
          "state": {
            "_dom_classes": [],
            "_model_module": "@jupyter-widgets/controls",
            "_model_module_version": "1.5.0",
            "_model_name": "HTMLModel",
            "_view_count": null,
            "_view_module": "@jupyter-widgets/controls",
            "_view_module_version": "1.5.0",
            "_view_name": "HTMLView",
            "description": "",
            "description_tooltip": null,
            "layout": "IPY_MODEL_6683fe95881043e9978df0916ca85940",
            "placeholder": "​",
            "style": "IPY_MODEL_22228c41ec724ed98aa4fa1aecace52d",
            "value": "Batches: 100%"
          }
        },
        "08613e5d51184bb8ac5b329babae2598": {
          "model_module": "@jupyter-widgets/controls",
          "model_module_version": "1.5.0",
          "model_name": "DescriptionStyleModel",
          "state": {
            "_model_module": "@jupyter-widgets/controls",
            "_model_module_version": "1.5.0",
            "_model_name": "DescriptionStyleModel",
            "_view_count": null,
            "_view_module": "@jupyter-widgets/base",
            "_view_module_version": "1.2.0",
            "_view_name": "StyleView",
            "description_width": ""
          }
        },
        "10ef36a1cf8e4b1c892cd53ea7907255": {
          "model_module": "@jupyter-widgets/controls",
          "model_module_version": "1.5.0",
          "model_name": "HBoxModel",
          "state": {
            "_dom_classes": [],
            "_model_module": "@jupyter-widgets/controls",
            "_model_module_version": "1.5.0",
            "_model_name": "HBoxModel",
            "_view_count": null,
            "_view_module": "@jupyter-widgets/controls",
            "_view_module_version": "1.5.0",
            "_view_name": "HBoxView",
            "box_style": "",
            "children": [
              "IPY_MODEL_041f62a5346b40ae8d59c826ea0bc762",
              "IPY_MODEL_aa342716404c4f64a127ddf428c7700c",
              "IPY_MODEL_7b7ad61db942481bb51525b2e54df605"
            ],
            "layout": "IPY_MODEL_a52a922a093c4a46b6dd3587278b13b3"
          }
        },
        "21e458a60c1a48a7833162873601049e": {
          "model_module": "@jupyter-widgets/base",
          "model_module_version": "1.2.0",
          "model_name": "LayoutModel",
          "state": {
            "_model_module": "@jupyter-widgets/base",
            "_model_module_version": "1.2.0",
            "_model_name": "LayoutModel",
            "_view_count": null,
            "_view_module": "@jupyter-widgets/base",
            "_view_module_version": "1.2.0",
            "_view_name": "LayoutView",
            "align_content": null,
            "align_items": null,
            "align_self": null,
            "border": null,
            "bottom": null,
            "display": null,
            "flex": null,
            "flex_flow": null,
            "grid_area": null,
            "grid_auto_columns": null,
            "grid_auto_flow": null,
            "grid_auto_rows": null,
            "grid_column": null,
            "grid_gap": null,
            "grid_row": null,
            "grid_template_areas": null,
            "grid_template_columns": null,
            "grid_template_rows": null,
            "height": null,
            "justify_content": null,
            "justify_items": null,
            "left": null,
            "margin": null,
            "max_height": null,
            "max_width": null,
            "min_height": null,
            "min_width": null,
            "object_fit": null,
            "object_position": null,
            "order": null,
            "overflow": null,
            "overflow_x": null,
            "overflow_y": null,
            "padding": null,
            "right": null,
            "top": null,
            "visibility": null,
            "width": null
          }
        },
        "22228c41ec724ed98aa4fa1aecace52d": {
          "model_module": "@jupyter-widgets/controls",
          "model_module_version": "1.5.0",
          "model_name": "DescriptionStyleModel",
          "state": {
            "_model_module": "@jupyter-widgets/controls",
            "_model_module_version": "1.5.0",
            "_model_name": "DescriptionStyleModel",
            "_view_count": null,
            "_view_module": "@jupyter-widgets/base",
            "_view_module_version": "1.2.0",
            "_view_name": "StyleView",
            "description_width": ""
          }
        },
        "2361bdeaecb74bd9ac6b4bb20c1db492": {
          "model_module": "@jupyter-widgets/base",
          "model_module_version": "1.2.0",
          "model_name": "LayoutModel",
          "state": {
            "_model_module": "@jupyter-widgets/base",
            "_model_module_version": "1.2.0",
            "_model_name": "LayoutModel",
            "_view_count": null,
            "_view_module": "@jupyter-widgets/base",
            "_view_module_version": "1.2.0",
            "_view_name": "LayoutView",
            "align_content": null,
            "align_items": null,
            "align_self": null,
            "border": null,
            "bottom": null,
            "display": null,
            "flex": null,
            "flex_flow": null,
            "grid_area": null,
            "grid_auto_columns": null,
            "grid_auto_flow": null,
            "grid_auto_rows": null,
            "grid_column": null,
            "grid_gap": null,
            "grid_row": null,
            "grid_template_areas": null,
            "grid_template_columns": null,
            "grid_template_rows": null,
            "height": null,
            "justify_content": null,
            "justify_items": null,
            "left": null,
            "margin": null,
            "max_height": null,
            "max_width": null,
            "min_height": null,
            "min_width": null,
            "object_fit": null,
            "object_position": null,
            "order": null,
            "overflow": null,
            "overflow_x": null,
            "overflow_y": null,
            "padding": null,
            "right": null,
            "top": null,
            "visibility": null,
            "width": null
          }
        },
        "240a3a981f00489f987ce5f80fa4ab34": {
          "model_module": "@jupyter-widgets/controls",
          "model_module_version": "1.5.0",
          "model_name": "DescriptionStyleModel",
          "state": {
            "_model_module": "@jupyter-widgets/controls",
            "_model_module_version": "1.5.0",
            "_model_name": "DescriptionStyleModel",
            "_view_count": null,
            "_view_module": "@jupyter-widgets/base",
            "_view_module_version": "1.2.0",
            "_view_name": "StyleView",
            "description_width": ""
          }
        },
        "45d612cb83274eb8b7405654b3a64962": {
          "model_module": "@jupyter-widgets/controls",
          "model_module_version": "1.5.0",
          "model_name": "FloatProgressModel",
          "state": {
            "_dom_classes": [],
            "_model_module": "@jupyter-widgets/controls",
            "_model_module_version": "1.5.0",
            "_model_name": "FloatProgressModel",
            "_view_count": null,
            "_view_module": "@jupyter-widgets/controls",
            "_view_module_version": "1.5.0",
            "_view_name": "ProgressView",
            "bar_style": "success",
            "description": "",
            "description_tooltip": null,
            "layout": "IPY_MODEL_2361bdeaecb74bd9ac6b4bb20c1db492",
            "max": 14,
            "min": 0,
            "orientation": "horizontal",
            "style": "IPY_MODEL_017e4ead61604e3eb62595399251a14e",
            "value": 14
          }
        },
        "4e78a057330a4f12aadef014207d9166": {
          "model_module": "@jupyter-widgets/controls",
          "model_module_version": "1.5.0",
          "model_name": "DescriptionStyleModel",
          "state": {
            "_model_module": "@jupyter-widgets/controls",
            "_model_module_version": "1.5.0",
            "_model_name": "DescriptionStyleModel",
            "_view_count": null,
            "_view_module": "@jupyter-widgets/base",
            "_view_module_version": "1.2.0",
            "_view_name": "StyleView",
            "description_width": ""
          }
        },
        "6683fe95881043e9978df0916ca85940": {
          "model_module": "@jupyter-widgets/base",
          "model_module_version": "1.2.0",
          "model_name": "LayoutModel",
          "state": {
            "_model_module": "@jupyter-widgets/base",
            "_model_module_version": "1.2.0",
            "_model_name": "LayoutModel",
            "_view_count": null,
            "_view_module": "@jupyter-widgets/base",
            "_view_module_version": "1.2.0",
            "_view_name": "LayoutView",
            "align_content": null,
            "align_items": null,
            "align_self": null,
            "border": null,
            "bottom": null,
            "display": null,
            "flex": null,
            "flex_flow": null,
            "grid_area": null,
            "grid_auto_columns": null,
            "grid_auto_flow": null,
            "grid_auto_rows": null,
            "grid_column": null,
            "grid_gap": null,
            "grid_row": null,
            "grid_template_areas": null,
            "grid_template_columns": null,
            "grid_template_rows": null,
            "height": null,
            "justify_content": null,
            "justify_items": null,
            "left": null,
            "margin": null,
            "max_height": null,
            "max_width": null,
            "min_height": null,
            "min_width": null,
            "object_fit": null,
            "object_position": null,
            "order": null,
            "overflow": null,
            "overflow_x": null,
            "overflow_y": null,
            "padding": null,
            "right": null,
            "top": null,
            "visibility": null,
            "width": null
          }
        },
        "7b7ad61db942481bb51525b2e54df605": {
          "model_module": "@jupyter-widgets/controls",
          "model_module_version": "1.5.0",
          "model_name": "HTMLModel",
          "state": {
            "_dom_classes": [],
            "_model_module": "@jupyter-widgets/controls",
            "_model_module_version": "1.5.0",
            "_model_name": "HTMLModel",
            "_view_count": null,
            "_view_module": "@jupyter-widgets/controls",
            "_view_module_version": "1.5.0",
            "_view_name": "HTMLView",
            "description": "",
            "description_tooltip": null,
            "layout": "IPY_MODEL_e2c517e227b64edcba576a98ea705d72",
            "placeholder": "​",
            "style": "IPY_MODEL_08613e5d51184bb8ac5b329babae2598",
            "value": " 14/14 [01:02&lt;00:00,  3.96s/it]"
          }
        },
        "84d9533efd8d4d669caa23ce9282610c": {
          "model_module": "@jupyter-widgets/controls",
          "model_module_version": "1.5.0",
          "model_name": "ProgressStyleModel",
          "state": {
            "_model_module": "@jupyter-widgets/controls",
            "_model_module_version": "1.5.0",
            "_model_name": "ProgressStyleModel",
            "_view_count": null,
            "_view_module": "@jupyter-widgets/base",
            "_view_module_version": "1.2.0",
            "_view_name": "StyleView",
            "bar_color": null,
            "description_width": ""
          }
        },
        "9485f4bdbc35468daffd6f524135841d": {
          "model_module": "@jupyter-widgets/controls",
          "model_module_version": "1.5.0",
          "model_name": "HTMLModel",
          "state": {
            "_dom_classes": [],
            "_model_module": "@jupyter-widgets/controls",
            "_model_module_version": "1.5.0",
            "_model_name": "HTMLModel",
            "_view_count": null,
            "_view_module": "@jupyter-widgets/controls",
            "_view_module_version": "1.5.0",
            "_view_name": "HTMLView",
            "description": "",
            "description_tooltip": null,
            "layout": "IPY_MODEL_cddae0dbae0b4a898e388f82ed847d09",
            "placeholder": "​",
            "style": "IPY_MODEL_240a3a981f00489f987ce5f80fa4ab34",
            "value": " 14/14 [01:05&lt;00:00,  4.47s/it]"
          }
        },
        "a52a922a093c4a46b6dd3587278b13b3": {
          "model_module": "@jupyter-widgets/base",
          "model_module_version": "1.2.0",
          "model_name": "LayoutModel",
          "state": {
            "_model_module": "@jupyter-widgets/base",
            "_model_module_version": "1.2.0",
            "_model_name": "LayoutModel",
            "_view_count": null,
            "_view_module": "@jupyter-widgets/base",
            "_view_module_version": "1.2.0",
            "_view_name": "LayoutView",
            "align_content": null,
            "align_items": null,
            "align_self": null,
            "border": null,
            "bottom": null,
            "display": null,
            "flex": null,
            "flex_flow": null,
            "grid_area": null,
            "grid_auto_columns": null,
            "grid_auto_flow": null,
            "grid_auto_rows": null,
            "grid_column": null,
            "grid_gap": null,
            "grid_row": null,
            "grid_template_areas": null,
            "grid_template_columns": null,
            "grid_template_rows": null,
            "height": null,
            "justify_content": null,
            "justify_items": null,
            "left": null,
            "margin": null,
            "max_height": null,
            "max_width": null,
            "min_height": null,
            "min_width": null,
            "object_fit": null,
            "object_position": null,
            "order": null,
            "overflow": null,
            "overflow_x": null,
            "overflow_y": null,
            "padding": null,
            "right": null,
            "top": null,
            "visibility": null,
            "width": null
          }
        },
        "aa342716404c4f64a127ddf428c7700c": {
          "model_module": "@jupyter-widgets/controls",
          "model_module_version": "1.5.0",
          "model_name": "FloatProgressModel",
          "state": {
            "_dom_classes": [],
            "_model_module": "@jupyter-widgets/controls",
            "_model_module_version": "1.5.0",
            "_model_name": "FloatProgressModel",
            "_view_count": null,
            "_view_module": "@jupyter-widgets/controls",
            "_view_module_version": "1.5.0",
            "_view_name": "ProgressView",
            "bar_style": "success",
            "description": "",
            "description_tooltip": null,
            "layout": "IPY_MODEL_faaed0ec2c9e44d7b77bf79a07928ee7",
            "max": 14,
            "min": 0,
            "orientation": "horizontal",
            "style": "IPY_MODEL_84d9533efd8d4d669caa23ce9282610c",
            "value": 14
          }
        },
        "cddae0dbae0b4a898e388f82ed847d09": {
          "model_module": "@jupyter-widgets/base",
          "model_module_version": "1.2.0",
          "model_name": "LayoutModel",
          "state": {
            "_model_module": "@jupyter-widgets/base",
            "_model_module_version": "1.2.0",
            "_model_name": "LayoutModel",
            "_view_count": null,
            "_view_module": "@jupyter-widgets/base",
            "_view_module_version": "1.2.0",
            "_view_name": "LayoutView",
            "align_content": null,
            "align_items": null,
            "align_self": null,
            "border": null,
            "bottom": null,
            "display": null,
            "flex": null,
            "flex_flow": null,
            "grid_area": null,
            "grid_auto_columns": null,
            "grid_auto_flow": null,
            "grid_auto_rows": null,
            "grid_column": null,
            "grid_gap": null,
            "grid_row": null,
            "grid_template_areas": null,
            "grid_template_columns": null,
            "grid_template_rows": null,
            "height": null,
            "justify_content": null,
            "justify_items": null,
            "left": null,
            "margin": null,
            "max_height": null,
            "max_width": null,
            "min_height": null,
            "min_width": null,
            "object_fit": null,
            "object_position": null,
            "order": null,
            "overflow": null,
            "overflow_x": null,
            "overflow_y": null,
            "padding": null,
            "right": null,
            "top": null,
            "visibility": null,
            "width": null
          }
        },
        "ce4ad7eb43d945dfbcea752c26a0b6db": {
          "model_module": "@jupyter-widgets/base",
          "model_module_version": "1.2.0",
          "model_name": "LayoutModel",
          "state": {
            "_model_module": "@jupyter-widgets/base",
            "_model_module_version": "1.2.0",
            "_model_name": "LayoutModel",
            "_view_count": null,
            "_view_module": "@jupyter-widgets/base",
            "_view_module_version": "1.2.0",
            "_view_name": "LayoutView",
            "align_content": null,
            "align_items": null,
            "align_self": null,
            "border": null,
            "bottom": null,
            "display": null,
            "flex": null,
            "flex_flow": null,
            "grid_area": null,
            "grid_auto_columns": null,
            "grid_auto_flow": null,
            "grid_auto_rows": null,
            "grid_column": null,
            "grid_gap": null,
            "grid_row": null,
            "grid_template_areas": null,
            "grid_template_columns": null,
            "grid_template_rows": null,
            "height": null,
            "justify_content": null,
            "justify_items": null,
            "left": null,
            "margin": null,
            "max_height": null,
            "max_width": null,
            "min_height": null,
            "min_width": null,
            "object_fit": null,
            "object_position": null,
            "order": null,
            "overflow": null,
            "overflow_x": null,
            "overflow_y": null,
            "padding": null,
            "right": null,
            "top": null,
            "visibility": null,
            "width": null
          }
        },
        "da4e1e93f7cf46029266b9b6f3b14de9": {
          "model_module": "@jupyter-widgets/controls",
          "model_module_version": "1.5.0",
          "model_name": "HBoxModel",
          "state": {
            "_dom_classes": [],
            "_model_module": "@jupyter-widgets/controls",
            "_model_module_version": "1.5.0",
            "_model_name": "HBoxModel",
            "_view_count": null,
            "_view_module": "@jupyter-widgets/controls",
            "_view_module_version": "1.5.0",
            "_view_name": "HBoxView",
            "box_style": "",
            "children": [
              "IPY_MODEL_0417fa2d9e9a4dd4bde34c76eea50516",
              "IPY_MODEL_45d612cb83274eb8b7405654b3a64962",
              "IPY_MODEL_9485f4bdbc35468daffd6f524135841d"
            ],
            "layout": "IPY_MODEL_ce4ad7eb43d945dfbcea752c26a0b6db"
          }
        },
        "e2c517e227b64edcba576a98ea705d72": {
          "model_module": "@jupyter-widgets/base",
          "model_module_version": "1.2.0",
          "model_name": "LayoutModel",
          "state": {
            "_model_module": "@jupyter-widgets/base",
            "_model_module_version": "1.2.0",
            "_model_name": "LayoutModel",
            "_view_count": null,
            "_view_module": "@jupyter-widgets/base",
            "_view_module_version": "1.2.0",
            "_view_name": "LayoutView",
            "align_content": null,
            "align_items": null,
            "align_self": null,
            "border": null,
            "bottom": null,
            "display": null,
            "flex": null,
            "flex_flow": null,
            "grid_area": null,
            "grid_auto_columns": null,
            "grid_auto_flow": null,
            "grid_auto_rows": null,
            "grid_column": null,
            "grid_gap": null,
            "grid_row": null,
            "grid_template_areas": null,
            "grid_template_columns": null,
            "grid_template_rows": null,
            "height": null,
            "justify_content": null,
            "justify_items": null,
            "left": null,
            "margin": null,
            "max_height": null,
            "max_width": null,
            "min_height": null,
            "min_width": null,
            "object_fit": null,
            "object_position": null,
            "order": null,
            "overflow": null,
            "overflow_x": null,
            "overflow_y": null,
            "padding": null,
            "right": null,
            "top": null,
            "visibility": null,
            "width": null
          }
        },
        "faaed0ec2c9e44d7b77bf79a07928ee7": {
          "model_module": "@jupyter-widgets/base",
          "model_module_version": "1.2.0",
          "model_name": "LayoutModel",
          "state": {
            "_model_module": "@jupyter-widgets/base",
            "_model_module_version": "1.2.0",
            "_model_name": "LayoutModel",
            "_view_count": null,
            "_view_module": "@jupyter-widgets/base",
            "_view_module_version": "1.2.0",
            "_view_name": "LayoutView",
            "align_content": null,
            "align_items": null,
            "align_self": null,
            "border": null,
            "bottom": null,
            "display": null,
            "flex": null,
            "flex_flow": null,
            "grid_area": null,
            "grid_auto_columns": null,
            "grid_auto_flow": null,
            "grid_auto_rows": null,
            "grid_column": null,
            "grid_gap": null,
            "grid_row": null,
            "grid_template_areas": null,
            "grid_template_columns": null,
            "grid_template_rows": null,
            "height": null,
            "justify_content": null,
            "justify_items": null,
            "left": null,
            "margin": null,
            "max_height": null,
            "max_width": null,
            "min_height": null,
            "min_width": null,
            "object_fit": null,
            "object_position": null,
            "order": null,
            "overflow": null,
            "overflow_x": null,
            "overflow_y": null,
            "padding": null,
            "right": null,
            "top": null,
            "visibility": null,
            "width": null
          }
        }
      }
    }
  },
  "nbformat": 4,
  "nbformat_minor": 0
}
